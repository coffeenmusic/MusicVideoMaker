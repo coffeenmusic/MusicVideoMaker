{
 "cells": [
  {
   "cell_type": "code",
   "execution_count": 1,
   "metadata": {},
   "outputs": [
    {
     "name": "stdout",
     "output_type": "stream",
     "text": [
      "3 videos found. ['Human Planet Disc 1_t00.mkv', 'Human Planet Disc 1_t01.mkv', 'Human Planet Disc 1_t02.mkv']\n",
      "Media\\Audio\\drums.wav\n"
     ]
    }
   ],
   "source": [
    "from helper import print_frame\n",
    "from moviepy.editor import *\n",
    "from decord import VideoReader\n",
    "from decord import cpu, gpu\n",
    "import cv2\n",
    "from tqdm import tqdm\n",
    "import numpy as np\n",
    "import os\n",
    "\n",
    "VID_DIR = os.path.join('Media', 'Videos')\n",
    "VID_FILES = [os.path.join(VID_DIR, f) for f in os.listdir(VID_DIR) if f.split('.')[-1].lower() in ['mp4', 'avi', 'mkv']]\n",
    "print(f'{len(VID_FILES)} videos found.', [f.split('\\\\')[-1] for f in VID_FILES])\n",
    "\n",
    "# Audio to split clips from\n",
    "AUD_DIR = os.path.join('Media', 'Audio')\n",
    "AUD_FILE = os.path.join(AUD_DIR, 'drums.wav')\n",
    "print(AUD_FILE)\n",
    "\n",
    "# Audio to stitch to final video\n",
    "FINAL_AUDIO = os.path.join(AUD_DIR, 'Greydon Square - Society Versus Nature.wav')\n",
    "\n",
    "EXPORT_FILENAME = 'music_video.mp4'"
   ]
  },
  {
   "cell_type": "markdown",
   "metadata": {},
   "source": [
    "### Pseudo Logic:\n",
    "    video_list = []\n",
    "    for split_time in split_times:\n",
    "        clip = next(clips)\n",
    "    \n",
    "        while len(clip) < split_len:\n",
    "            clip = next(clips)\n",
    "        \n",
    "        video_list += [clip[:split_len]]\n",
    "       \n",
    "    clip_list2vid(video_list)"
   ]
  },
  {
   "cell_type": "markdown",
   "metadata": {},
   "source": [
    "### TODO:\n",
    "- Create tool to find best audio split points\n",
    "- Clean up print_frame debug in functions once no longer being used\n",
    "- Add progress bar to audio read data input\n",
    "- Yield clips instead of processing all for each video\n",
    "\n",
    "### Ideas:\n",
    "- Change frame changed threshold with variation in audio amplitude?"
   ]
  },
  {
   "cell_type": "markdown",
   "metadata": {},
   "source": [
    "### Potentionally Useful Functions\n",
    "- clip.get_frame(time)\n",
    "- clip.ipython_display(width=240)"
   ]
  },
  {
   "cell_type": "code",
   "execution_count": 2,
   "metadata": {},
   "outputs": [],
   "source": [
    "import time"
   ]
  },
  {
   "cell_type": "code",
   "execution_count": 3,
   "metadata": {},
   "outputs": [],
   "source": [
    "# video = VideoFileClip(VID_FILES[0])"
   ]
  },
  {
   "cell_type": "code",
   "execution_count": 4,
   "metadata": {},
   "outputs": [],
   "source": [
    "# print('Frames/Second:', video.reader.fps)\n",
    "# print('Frame Count:', video.reader.nframes)\n",
    "# print('Video Length:', video.duration)"
   ]
  },
  {
   "cell_type": "code",
   "execution_count": 5,
   "metadata": {},
   "outputs": [],
   "source": [
    "# print_frame(video.get_frame(np.random.randint(0, video.duration)))"
   ]
  },
  {
   "cell_type": "markdown",
   "metadata": {},
   "source": [
    "# Split Video In To Clips"
   ]
  },
  {
   "cell_type": "code",
   "execution_count": 6,
   "metadata": {
    "scrolled": false
   },
   "outputs": [],
   "source": [
    "def scene_changed(prev_frame, frame, delta_thresh=30):\n",
    "    delta = abs(np.mean(prev_frame) - np.mean(frame))\n",
    "    \n",
    "    if delta > delta_thresh:\n",
    "        return True\n",
    "    return False\n",
    "\n",
    "# def split_video(video, max_clips=0, check_freq = 1, print_split_frames=False, print_cmp_frames=False):\n",
    "#     \"\"\"\n",
    "#     print_split_frames - for troubleshooting, may remove later\n",
    "#     print_cmp_frames - for troubleshooting, may remove later\n",
    "#     max_clips - set above 0 to stop early when len(clips) greater than max_clips\n",
    "#     check_freq [seconds] - how often to compare two frames for scene change\n",
    "#     \"\"\"\n",
    "#     clip_cnt = 0      # Number of clips created from video\n",
    "#     start_time = 0    # time in seconds from video where current clip starts\n",
    "#     clips = []        # list of subclips of video file created by video split\n",
    "    \n",
    "#     frame_freq = int(video.reader.fps*check_freq)\n",
    "#     print(f'Compare frames every {check_freq} seconds. This equals {frame_freq} frames.')\n",
    "\n",
    "#     prev_frame = video.get_frame(0) # Initialize previous frame\n",
    "    \n",
    "#     for i, (time, frame) in tqdm(enumerate(video.iter_frames(with_times=True))):\n",
    "\n",
    "#         if i % frame_freq == 0:\n",
    "#             if print_cmp_frames:\n",
    "#                 print_frame(np.append(prev_frame, frame, axis=1))\n",
    "\n",
    "#             if i > 0: # Skip first frame\n",
    "#                 if start_time != stop_time and scene_changed(prev_frame, frame, delta_thresh=20):\n",
    "#                     if print_split_frames:\n",
    "#                         print_frame(prev_frame)\n",
    "\n",
    "#                     clips += [video.subclip(start_time, stop_time)]\n",
    "\n",
    "#                     start_time = time\n",
    "\n",
    "#                     clip_cnt += 1\n",
    "\n",
    "#             prev_frame = frame.copy()\n",
    "#             stop_time = time\n",
    "\n",
    "#             # Exit when we have the number of clips requested\n",
    "#             if max_clips != 0 and clip_cnt > max_clips:\n",
    "#                 break\n",
    "#     return clips"
   ]
  },
  {
   "cell_type": "code",
   "execution_count": 7,
   "metadata": {},
   "outputs": [],
   "source": [
    "# def split_video2(vid_filename, check_freq=1, print_split_frames=False, print_cmp_frames=False):\n",
    "#     \"\"\"\n",
    "#     print_split_frames - for troubleshooting, may remove later\n",
    "#     print_cmp_frames - for troubleshooting, may remove later\n",
    "#     max_clips - set above 0 to stop early when len(clips) greater than max_clips\n",
    "#     check_freq [seconds] - how often to compare two frames for scene change\n",
    "#     \"\"\"\n",
    "#     video = VideoFileClip(vid_filename)\n",
    "#     cap = cv2.VideoCapture(vid_filename) # Uses opencv to iterate frames because it's faster\n",
    "\n",
    "#     clip_cnt = 0  # Number of clips created from video\n",
    "#     start_time = 0  # time in seconds from video where current clip starts\n",
    "#     clips = []  # list of subclips of video file created by video split\n",
    "\n",
    "#     frame_freq = int(video.reader.fps * check_freq)\n",
    "#     print(f'Compare frames every {check_freq} seconds. This equals {frame_freq} frames.')\n",
    "\n",
    "#     total_frames = int(cap.get(cv2.CAP_PROP_FRAME_COUNT))\n",
    "\n",
    "#     cap.set(cv2.CAP_PROP_POS_FRAMES, 0)\n",
    "#     _, prev_frame = cap.read()  # Initialize previous frame\n",
    "\n",
    "#     for i in range(0, total_frames, frame_freq):\n",
    "#         cap.set(cv2.CAP_PROP_POS_FRAMES, i)\n",
    "#         _, frame = cap.read()\n",
    "\n",
    "#         if print_cmp_frames:\n",
    "#             print_frame(np.append(prev_frame, frame, axis=1))\n",
    "\n",
    "#         if i > 0:  # Skip first frame\n",
    "#             if start_time != stop_time and scene_changed(prev_frame, frame, delta_thresh=20):\n",
    "#                 if print_split_frames:\n",
    "#                     print_frame(prev_frame)\n",
    "\n",
    "#                 clip = video.subclip(start_time, stop_time)\n",
    "\n",
    "#                 start_time = i / video.reader.fps\n",
    "\n",
    "#                 clip_cnt += 1\n",
    "                \n",
    "#                 yield clip\n",
    "\n",
    "#         prev_frame = frame.copy()\n",
    "#         stop_time = i / video.reader.fps      "
   ]
  },
  {
   "cell_type": "code",
   "execution_count": 21,
   "metadata": {},
   "outputs": [],
   "source": [
    "def split_video3(vid_filename, check_freq=1, print_split_frames=False, print_cmp_frames=False):\n",
    "    \"\"\"\n",
    "    print_split_frames - for troubleshooting, may remove later\n",
    "    print_cmp_frames - for troubleshooting, may remove later\n",
    "    max_clips - set above 0 to stop early when len(clips) greater than max_clips\n",
    "    check_freq [seconds] - how often to compare two frames for scene change\n",
    "    \"\"\"\n",
    "    with open(vid_filename, 'rb') as f:\n",
    "        video = VideoFileClip(vid_filename)\n",
    "        vr = VideoReader(vid_filename, ctx=cpu(0))\n",
    "\n",
    "        clip_cnt = 0  # Number of clips created from video\n",
    "        start_time = 0  # time in seconds from video where current clip starts\n",
    "        clips = []  # list of subclips of video file created by video split\n",
    "\n",
    "        frame_freq = int(video.reader.fps * check_freq)\n",
    "        print(f'Compare frames every {check_freq} seconds. This equals {frame_freq} frames.')\n",
    "\n",
    "        total_frames = len(vr)\n",
    "        \n",
    "        prev_frame = vr[0]\n",
    "\n",
    "        for i in range(0, total_frames, frame_freq):\n",
    "            frame = vr[i].asnumpy()\n",
    "\n",
    "            if print_cmp_frames:\n",
    "                print_frame(np.append(prev_frame, frame, axis=1))\n",
    "\n",
    "            if i > 0:  # Skip first frame\n",
    "                if start_time != stop_time and scene_changed(prev_frame, frame, delta_thresh=20):\n",
    "                    if print_split_frames:\n",
    "                        print_frame(prev_frame)\n",
    "\n",
    "                    clip = video.subclip(start_time, stop_time)\n",
    "\n",
    "                    start_time = i / video.reader.fps\n",
    "\n",
    "                    clip_cnt += 1\n",
    "\n",
    "                    yield clip\n",
    "\n",
    "            prev_frame = frame\n",
    "            stop_time = i / video.reader.fps"
   ]
  },
  {
   "cell_type": "markdown",
   "metadata": {},
   "source": [
    "# Audio"
   ]
  },
  {
   "cell_type": "code",
   "execution_count": 9,
   "metadata": {},
   "outputs": [],
   "source": [
    "import wave\n",
    "import pyaudio\n",
    "import matplotlib.pyplot as plt"
   ]
  },
  {
   "cell_type": "code",
   "execution_count": 10,
   "metadata": {},
   "outputs": [],
   "source": [
    "def open_stream(audio_file, CHUNK_MUL=1):\n",
    "    CHUNK = 1024*CHUNK_MUL\n",
    "    \n",
    "    wf = wave.open(audio_file, 'rb')\n",
    "    RATE = wf.getframerate()\n",
    "    FPS = RATE / CHUNK\n",
    "\n",
    "    p = pyaudio.PyAudio()\n",
    "\n",
    "    stream = p.open(format=p.get_format_from_width(wf.getsampwidth()),\n",
    "                    channels=wf.getnchannels(),\n",
    "                    rate=RATE,\n",
    "                    output=True)\n",
    "    \n",
    "    return stream, wf, CHUNK, RATE\n",
    "\n",
    "def get_audio_data():\n",
    "    stream, wf, CHUNK, RATE = open_stream(AUD_FILE) \n",
    "    \n",
    "    cnt = 0\n",
    "    while True:\n",
    "        # Read next frame\n",
    "        data = wf.readframes(CHUNK)\n",
    "        if len(data) < CHUNK:\n",
    "            break\n",
    "\n",
    "        data_int = np.frombuffer(data, dtype=np.int32) # Read bytes to int\n",
    "        data_int = np.resize(data_int, (1, CHUNK)) # Handle final CHUNK where size might be less than CHUNK size\n",
    "\n",
    "        if cnt == 0:\n",
    "            all_data = data_int.copy()\n",
    "        else:\n",
    "            all_data = np.append(all_data, data_int, axis=0)\n",
    "        \n",
    "        cnt += 1  \n",
    "    \n",
    "    return all_data, CHUNK, RATE"
   ]
  },
  {
   "cell_type": "code",
   "execution_count": 11,
   "metadata": {},
   "outputs": [],
   "source": [
    "audio_data, CHUNK, RATE = get_audio_data()\n",
    "#audio_data = [v for chunk in audio_data for v in chunk] # Flatten"
   ]
  },
  {
   "cell_type": "code",
   "execution_count": 12,
   "metadata": {},
   "outputs": [
    {
     "data": {
      "image/png": "[encoded data removed]",
      "text/plain": [
       "<Figure size 1008x432 with 1 Axes>"
      ]
     },
     "metadata": {
      "needs_background": "light"
     },
     "output_type": "display_data"
    }
   ],
   "source": [
    "plt.figure(figsize=(14,6))\n",
    "plt.plot([v for chunk in audio_data[:100] for v in chunk])\n",
    "plt.show()"
   ]
  },
  {
   "cell_type": "code",
   "execution_count": 13,
   "metadata": {},
   "outputs": [],
   "source": [
    "def moving_average(x, width=10):\n",
    "    return np.convolve(x, np.ones(width), 'valid') / width"
   ]
  },
  {
   "cell_type": "code",
   "execution_count": 14,
   "metadata": {},
   "outputs": [],
   "source": [
    "def is_increasing(data):\n",
    "    data = moving_average(data, width=400)\n",
    "#     pct_increasing = sum([1 for i in range(1, len(data)) if data[i] > data[i-1]])/len(data)\n",
    "#     return pct_increasing > 0.5\n",
    "    return np.mean(np.diff(data, n=2)) > 0"
   ]
  },
  {
   "cell_type": "code",
   "execution_count": 15,
   "metadata": {},
   "outputs": [
    {
     "data": {
      "image/png": "[encoded data removed]",
      "text/plain": [
       "<Figure size 1008x432 with 1 Axes>"
      ]
     },
     "metadata": {
      "needs_background": "light"
     },
     "output_type": "display_data"
    }
   ],
   "source": [
    "max_data = [np.max(r) for r in audio_data]\n",
    "seconds = [(CHUNK / RATE)*i for i in range(len(audio_data))]\n",
    "\n",
    "plot_time = 20 # seconds\n",
    "amp_thresh = 1000000000\n",
    "\n",
    "# Get samples above threshold amplitude if they are rising and not falling\n",
    "abv_thresh = [np.max(d) > amp_thresh and is_increasing(d) for d in audio_data]\n",
    "#rising = [True if np.mean(c[:512]) < np.mean(c[512:]) else False for c in audio_data]\n",
    "#abv_thresh = [r and a for r, a in zip(rising, abv_thresh)]\n",
    "\n",
    "to_idx = np.where(np.array(seconds) > plot_time)[0][0] # Convert plot time in seconds to matching index\n",
    "plt.figure(figsize=(14,6))\n",
    "plt.xlabel('Time (s)')\n",
    "plt.ylabel('Amplitude')\n",
    "plt.plot(seconds[:to_idx], max_data[:to_idx])\n",
    "plt.plot([seconds[i] for i, v in enumerate(abv_thresh[:to_idx]) if v == True], [amp_thresh for v in abv_thresh[:to_idx] if v == True], 'ro')\n",
    "#plt.plot([seconds[i] for i, v in enumerate(max_data[:to_idx]) if v > amp_thresh], [v for v in max_data[:to_idx] if v > amp_thresh], 'ro')\n",
    "plt.show()"
   ]
  },
  {
   "cell_type": "code",
   "execution_count": null,
   "metadata": {},
   "outputs": [],
   "source": [
    "# ITERATION_CNT = 100"
   ]
  },
  {
   "cell_type": "code",
   "execution_count": null,
   "metadata": {},
   "outputs": [],
   "source": [
    "# CHUNK = Audio.CHUNK\n",
    "# Audio.open_stream()\n",
    "# p = Audio.p\n",
    "# wf = Audio.wf\n",
    "# data = wf.readframes(CHUNK)\n",
    "\n",
    "# fifo_long = Audio.init_fifo_from_preprocessed_data(n_data, Audio.FIFO_LONG_LEN)\n",
    "# fifo_short = Audio.init_fifo_from_preprocessed_data(n_data, Audio.FIFO_SHORT_LEN)\n",
    "\n",
    "# for sample_idx in range(len(n_data)):\n",
    "#     Audio.stream.write(data)\n",
    "#     data = wf.readframes(CHUNK)\n",
    "#     if len(data) < CHUNK:\n",
    "#         break\n",
    "\n",
    "#     lfb = n_data[sample_idx]  # Log of the frequencies for each bucket\n",
    "\n",
    "#     # Get rolling average & min\n",
    "#     roll_delta, fifo_long, fifo_short = Audio.get_roll_delta(fifo_long, fifo_short, lfb)\n",
    "#     #print(np.max(roll_delta))\n",
    "#     if np.max(roll_delta) > 0.05:\n",
    "#         print(np.max(roll_delta))\n",
    "# #     if np.max(lfb) > .37:\n",
    "# #         print(np.max(lfb))\n",
    "    \n",
    "#     if sample_idx > ITERATION_CNT:\n",
    "#         break"
   ]
  },
  {
   "cell_type": "code",
   "execution_count": 16,
   "metadata": {},
   "outputs": [],
   "source": [
    "'''\n",
    "reset_delta [ms]: length of time (in ms) to wait before a new split can occur \n",
    "'''\n",
    "def get_split_times(data, reset_delta=125, chunk=CHUNK, rate=RATE):\n",
    "    reset_delta_frames = int(reset_delta / ((chunk / rate)*1000)) + 2\n",
    "    #reset_delta_frames = int((125/1000)*RATE)+1\n",
    "    \n",
    "    abv_thresh = [np.max(d) > amp_thresh and is_increasing(d) for d in audio_data]\n",
    "    times = []\n",
    "    \n",
    "    i = 0\n",
    "    while True:\n",
    "        if abv_thresh[i] == True:\n",
    "            times += [i*CHUNK/RATE]\n",
    "            i += reset_delta_frames\n",
    "        else:\n",
    "            i += 1\n",
    "            \n",
    "        if i >= len(abv_thresh):\n",
    "            # Add final time\n",
    "            times += [len(audio_data)*(CHUNK/RATE)]\n",
    "            break\n",
    "    \n",
    "    return times\n",
    "\n",
    "times = get_split_times(audio_data)"
   ]
  },
  {
   "cell_type": "markdown",
   "metadata": {},
   "source": [
    "# Build Music Video"
   ]
  },
  {
   "cell_type": "code",
   "execution_count": 17,
   "metadata": {},
   "outputs": [],
   "source": [
    "# def build_mv_clips(clips, times):\n",
    "#     cut_lens = np.diff([0] + times)\n",
    "\n",
    "#     mv_clips = []\n",
    "#     for cut_len in tqdm(cut_lens):\n",
    "\n",
    "#         clip_len = 0\n",
    "#         while clip_len < cut_len:\n",
    "#             if clips: # If not empty\n",
    "#                 clip = clips.pop(0)\n",
    "#                 clip_len = clip.duration\n",
    "#                 if clip_len > cut_len:\n",
    "#                     mv_clips += [clip.subclip(0, cut_len)]\n",
    "#             else:\n",
    "#                 print('Out of clips')\n",
    "\n",
    "#                 if VID_FILES: # Get next video and separate in to clips\n",
    "#                     print('Getting next video, {}...'.format(VID_FILES[0].split('\\\\')[-1]))\n",
    "#                     video = VideoFileClip(VID_FILES.pop(0))\n",
    "#                     clips = split_video2(cap, video)\n",
    "#                     print(f'{len(clips)} new clips created. Continuing music video creating...')\n",
    "#                 else: # No more videos, break\n",
    "#                     print('No more videos available')\n",
    "#                     return mv_clips\n",
    "#     return mv_clips\n",
    "\n",
    "\n",
    "def build_mv_clips(times):\n",
    "    cut_lens = np.diff([0] + times)\n",
    "\n",
    "    clips = []\n",
    "    mv_clips = []\n",
    "    \n",
    "    cut_len = cut_lens[0]\n",
    "    for video in VID_FILES:\n",
    "        print(video)\n",
    "        for clip in split_video3(video):\n",
    "            clip_len = clip.duration\n",
    "            if clip_len > cut_len:\n",
    "                mv_clips += [clip.subclip(0, cut_len)]\n",
    "                if len(mv_clips) < len(cut_lens):\n",
    "                    cut_len = cut_lens[len(mv_clips)]\n",
    "                else:\n",
    "                    return mv_clips\n",
    "    return mv_clips"
   ]
  },
  {
   "cell_type": "code",
   "execution_count": 29,
   "metadata": {},
   "outputs": [],
   "source": [
    "vr = VideoReader(VID_FILES[0], ctx=cpu(0))"
   ]
  },
  {
   "cell_type": "code",
   "execution_count": 33,
   "metadata": {},
   "outputs": [
    {
     "data": {
      "image/png": "[encoded data removed]",
      "text/plain": [
       "<Figure size 432x288 with 1 Axes>"
      ]
     },
     "metadata": {
      "needs_background": "light"
     },
     "output_type": "display_data"
    }
   ],
   "source": [
    "print_frame(vr[72].asnumpy())"
   ]
  },
  {
   "cell_type": "code",
   "execution_count": 22,
   "metadata": {},
   "outputs": [],
   "source": [
    "gen = split_video3(VID_FILES[0])"
   ]
  },
  {
   "cell_type": "code",
   "execution_count": 23,
   "metadata": {},
   "outputs": [
    {
     "name": "stdout",
     "output_type": "stream",
     "text": [
      "Compare frames every 1 seconds. This equals 29 frames.\n"
     ]
    },
    {
     "ename": "KeyboardInterrupt",
     "evalue": "",
     "output_type": "error",
     "traceback": [
      "\u001b[1;31m---------------------------------------------------------------------------\u001b[0m",
      "\u001b[1;31mKeyboardInterrupt\u001b[0m                         Traceback (most recent call last)",
      "\u001b[1;32m<ipython-input-23-3550a61ec602>\u001b[0m in \u001b[0;36m<module>\u001b[1;34m\u001b[0m\n\u001b[1;32m----> 1\u001b[1;33m \u001b[0mclip\u001b[0m \u001b[1;33m=\u001b[0m \u001b[0mnext\u001b[0m\u001b[1;33m(\u001b[0m\u001b[0mgen\u001b[0m\u001b[1;33m)\u001b[0m\u001b[1;33m\u001b[0m\u001b[1;33m\u001b[0m\u001b[0m\n\u001b[0m",
      "\u001b[1;32m<ipython-input-21-2ea40e174299>\u001b[0m in \u001b[0;36msplit_video3\u001b[1;34m(vid_filename, check_freq, print_split_frames, print_cmp_frames)\u001b[0m\n\u001b[0;32m     28\u001b[0m \u001b[1;33m\u001b[0m\u001b[0m\n\u001b[0;32m     29\u001b[0m             \u001b[1;32mif\u001b[0m \u001b[0mi\u001b[0m \u001b[1;33m>\u001b[0m \u001b[1;36m0\u001b[0m\u001b[1;33m:\u001b[0m  \u001b[1;31m# Skip first frame\u001b[0m\u001b[1;33m\u001b[0m\u001b[1;33m\u001b[0m\u001b[0m\n\u001b[1;32m---> 30\u001b[1;33m                 \u001b[1;32mif\u001b[0m \u001b[0mstart_time\u001b[0m \u001b[1;33m!=\u001b[0m \u001b[0mstop_time\u001b[0m \u001b[1;32mand\u001b[0m \u001b[0mscene_changed\u001b[0m\u001b[1;33m(\u001b[0m\u001b[0mprev_frame\u001b[0m\u001b[1;33m,\u001b[0m \u001b[0mframe\u001b[0m\u001b[1;33m,\u001b[0m \u001b[0mdelta_thresh\u001b[0m\u001b[1;33m=\u001b[0m\u001b[1;36m20\u001b[0m\u001b[1;33m)\u001b[0m\u001b[1;33m:\u001b[0m\u001b[1;33m\u001b[0m\u001b[1;33m\u001b[0m\u001b[0m\n\u001b[0m\u001b[0;32m     31\u001b[0m                     \u001b[1;32mif\u001b[0m \u001b[0mprint_split_frames\u001b[0m\u001b[1;33m:\u001b[0m\u001b[1;33m\u001b[0m\u001b[1;33m\u001b[0m\u001b[0m\n\u001b[0;32m     32\u001b[0m                         \u001b[0mprint_frame\u001b[0m\u001b[1;33m(\u001b[0m\u001b[0mprev_frame\u001b[0m\u001b[1;33m)\u001b[0m\u001b[1;33m\u001b[0m\u001b[1;33m\u001b[0m\u001b[0m\n",
      "\u001b[1;32m<ipython-input-6-90fe5d831dc2>\u001b[0m in \u001b[0;36mscene_changed\u001b[1;34m(prev_frame, frame, delta_thresh)\u001b[0m\n\u001b[0;32m      1\u001b[0m \u001b[1;32mdef\u001b[0m \u001b[0mscene_changed\u001b[0m\u001b[1;33m(\u001b[0m\u001b[0mprev_frame\u001b[0m\u001b[1;33m,\u001b[0m \u001b[0mframe\u001b[0m\u001b[1;33m,\u001b[0m \u001b[0mdelta_thresh\u001b[0m\u001b[1;33m=\u001b[0m\u001b[1;36m30\u001b[0m\u001b[1;33m)\u001b[0m\u001b[1;33m:\u001b[0m\u001b[1;33m\u001b[0m\u001b[1;33m\u001b[0m\u001b[0m\n\u001b[1;32m----> 2\u001b[1;33m     \u001b[0mdelta\u001b[0m \u001b[1;33m=\u001b[0m \u001b[0mabs\u001b[0m\u001b[1;33m(\u001b[0m\u001b[0mnp\u001b[0m\u001b[1;33m.\u001b[0m\u001b[0mmean\u001b[0m\u001b[1;33m(\u001b[0m\u001b[0mprev_frame\u001b[0m\u001b[1;33m)\u001b[0m \u001b[1;33m-\u001b[0m \u001b[0mnp\u001b[0m\u001b[1;33m.\u001b[0m\u001b[0mmean\u001b[0m\u001b[1;33m(\u001b[0m\u001b[0mframe\u001b[0m\u001b[1;33m)\u001b[0m\u001b[1;33m)\u001b[0m\u001b[1;33m\u001b[0m\u001b[1;33m\u001b[0m\u001b[0m\n\u001b[0m\u001b[0;32m      3\u001b[0m \u001b[1;33m\u001b[0m\u001b[0m\n\u001b[0;32m      4\u001b[0m     \u001b[1;32mif\u001b[0m \u001b[0mdelta\u001b[0m \u001b[1;33m>\u001b[0m \u001b[0mdelta_thresh\u001b[0m\u001b[1;33m:\u001b[0m\u001b[1;33m\u001b[0m\u001b[1;33m\u001b[0m\u001b[0m\n\u001b[0;32m      5\u001b[0m         \u001b[1;32mreturn\u001b[0m \u001b[1;32mTrue\u001b[0m\u001b[1;33m\u001b[0m\u001b[1;33m\u001b[0m\u001b[0m\n",
      "\u001b[1;32m<__array_function__ internals>\u001b[0m in \u001b[0;36mmean\u001b[1;34m(*args, **kwargs)\u001b[0m\n",
      "\u001b[1;32m~\\Anaconda3\\envs\\moviepy\\lib\\site-packages\\numpy\\core\\fromnumeric.py\u001b[0m in \u001b[0;36mmean\u001b[1;34m(a, axis, dtype, out, keepdims)\u001b[0m\n\u001b[0;32m   3370\u001b[0m             \u001b[1;32mreturn\u001b[0m \u001b[0mmean\u001b[0m\u001b[1;33m(\u001b[0m\u001b[0maxis\u001b[0m\u001b[1;33m=\u001b[0m\u001b[0maxis\u001b[0m\u001b[1;33m,\u001b[0m \u001b[0mdtype\u001b[0m\u001b[1;33m=\u001b[0m\u001b[0mdtype\u001b[0m\u001b[1;33m,\u001b[0m \u001b[0mout\u001b[0m\u001b[1;33m=\u001b[0m\u001b[0mout\u001b[0m\u001b[1;33m,\u001b[0m \u001b[1;33m**\u001b[0m\u001b[0mkwargs\u001b[0m\u001b[1;33m)\u001b[0m\u001b[1;33m\u001b[0m\u001b[1;33m\u001b[0m\u001b[0m\n\u001b[0;32m   3371\u001b[0m \u001b[1;33m\u001b[0m\u001b[0m\n\u001b[1;32m-> 3372\u001b[1;33m     return _methods._mean(a, axis=axis, dtype=dtype,\n\u001b[0m\u001b[0;32m   3373\u001b[0m                           out=out, **kwargs)\n\u001b[0;32m   3374\u001b[0m \u001b[1;33m\u001b[0m\u001b[0m\n",
      "\u001b[1;32m~\\Anaconda3\\envs\\moviepy\\lib\\site-packages\\numpy\\core\\_methods.py\u001b[0m in \u001b[0;36m_mean\u001b[1;34m(a, axis, dtype, out, keepdims)\u001b[0m\n\u001b[0;32m    158\u001b[0m             \u001b[0mis_float16_result\u001b[0m \u001b[1;33m=\u001b[0m \u001b[1;32mTrue\u001b[0m\u001b[1;33m\u001b[0m\u001b[1;33m\u001b[0m\u001b[0m\n\u001b[0;32m    159\u001b[0m \u001b[1;33m\u001b[0m\u001b[0m\n\u001b[1;32m--> 160\u001b[1;33m     \u001b[0mret\u001b[0m \u001b[1;33m=\u001b[0m \u001b[0mumr_sum\u001b[0m\u001b[1;33m(\u001b[0m\u001b[0marr\u001b[0m\u001b[1;33m,\u001b[0m \u001b[0maxis\u001b[0m\u001b[1;33m,\u001b[0m \u001b[0mdtype\u001b[0m\u001b[1;33m,\u001b[0m \u001b[0mout\u001b[0m\u001b[1;33m,\u001b[0m \u001b[0mkeepdims\u001b[0m\u001b[1;33m)\u001b[0m\u001b[1;33m\u001b[0m\u001b[1;33m\u001b[0m\u001b[0m\n\u001b[0m\u001b[0;32m    161\u001b[0m     \u001b[1;32mif\u001b[0m \u001b[0misinstance\u001b[0m\u001b[1;33m(\u001b[0m\u001b[0mret\u001b[0m\u001b[1;33m,\u001b[0m \u001b[0mmu\u001b[0m\u001b[1;33m.\u001b[0m\u001b[0mndarray\u001b[0m\u001b[1;33m)\u001b[0m\u001b[1;33m:\u001b[0m\u001b[1;33m\u001b[0m\u001b[1;33m\u001b[0m\u001b[0m\n\u001b[0;32m    162\u001b[0m         ret = um.true_divide(\n",
      "\u001b[1;31mKeyboardInterrupt\u001b[0m: "
     ]
    }
   ],
   "source": [
    "clip = next(gen)"
   ]
  },
  {
   "cell_type": "code",
   "execution_count": null,
   "metadata": {},
   "outputs": [],
   "source": [
    "clip.duration"
   ]
  },
  {
   "cell_type": "code",
   "execution_count": 17,
   "metadata": {},
   "outputs": [
    {
     "name": "stdout",
     "output_type": "stream",
     "text": [
      "Media\\Videos\\The_Hunt_Disc_2_t00.mkv\n"
     ]
    },
    {
     "ename": "DECORDError",
     "evalue": "[09:33:13] D:\\a\\decord\\decord\\src\\video\\video_reader.cc:167: CUDA not enabled. Requested context GPU(0).",
     "output_type": "error",
     "traceback": [
      "\u001b[1;31m---------------------------------------------------------------------------\u001b[0m",
      "\u001b[1;31mDECORDError\u001b[0m                               Traceback (most recent call last)",
      "\u001b[1;32m<ipython-input-17-f1231734f224>\u001b[0m in \u001b[0;36m<module>\u001b[1;34m\u001b[0m\n\u001b[0;32m      1\u001b[0m \u001b[0mstart_time\u001b[0m \u001b[1;33m=\u001b[0m \u001b[0mtime\u001b[0m\u001b[1;33m.\u001b[0m\u001b[0mtime\u001b[0m\u001b[1;33m(\u001b[0m\u001b[1;33m)\u001b[0m\u001b[1;33m\u001b[0m\u001b[1;33m\u001b[0m\u001b[0m\n\u001b[0;32m      2\u001b[0m \u001b[1;31m#mv_clips = build_mv_clips(clips, times)\u001b[0m\u001b[1;33m\u001b[0m\u001b[1;33m\u001b[0m\u001b[1;33m\u001b[0m\u001b[0m\n\u001b[1;32m----> 3\u001b[1;33m \u001b[0mmv_clips\u001b[0m \u001b[1;33m=\u001b[0m \u001b[0mbuild_mv_clips\u001b[0m\u001b[1;33m(\u001b[0m\u001b[0mtimes\u001b[0m\u001b[1;33m)\u001b[0m\u001b[1;33m\u001b[0m\u001b[1;33m\u001b[0m\u001b[0m\n\u001b[0m\u001b[0;32m      4\u001b[0m \u001b[0mprint\u001b[0m\u001b[1;33m(\u001b[0m\u001b[1;34m'Time taken:'\u001b[0m\u001b[1;33m,\u001b[0m \u001b[1;33m(\u001b[0m\u001b[0mtime\u001b[0m\u001b[1;33m.\u001b[0m\u001b[0mtime\u001b[0m\u001b[1;33m(\u001b[0m\u001b[1;33m)\u001b[0m \u001b[1;33m-\u001b[0m \u001b[0mstart_time\u001b[0m\u001b[1;33m)\u001b[0m\u001b[1;33m/\u001b[0m\u001b[1;36m60\u001b[0m\u001b[1;33m)\u001b[0m\u001b[1;33m\u001b[0m\u001b[1;33m\u001b[0m\u001b[0m\n",
      "\u001b[1;32m<ipython-input-16-518b22301184>\u001b[0m in \u001b[0;36mbuild_mv_clips\u001b[1;34m(times)\u001b[0m\n\u001b[0;32m     35\u001b[0m     \u001b[1;32mfor\u001b[0m \u001b[0mvideo\u001b[0m \u001b[1;32min\u001b[0m \u001b[0mVID_FILES\u001b[0m\u001b[1;33m:\u001b[0m\u001b[1;33m\u001b[0m\u001b[1;33m\u001b[0m\u001b[0m\n\u001b[0;32m     36\u001b[0m         \u001b[0mprint\u001b[0m\u001b[1;33m(\u001b[0m\u001b[0mvideo\u001b[0m\u001b[1;33m)\u001b[0m\u001b[1;33m\u001b[0m\u001b[1;33m\u001b[0m\u001b[0m\n\u001b[1;32m---> 37\u001b[1;33m         \u001b[1;32mfor\u001b[0m \u001b[0mclip\u001b[0m \u001b[1;32min\u001b[0m \u001b[0msplit_video3\u001b[0m\u001b[1;33m(\u001b[0m\u001b[0mvideo\u001b[0m\u001b[1;33m)\u001b[0m\u001b[1;33m:\u001b[0m\u001b[1;33m\u001b[0m\u001b[1;33m\u001b[0m\u001b[0m\n\u001b[0m\u001b[0;32m     38\u001b[0m             \u001b[0mclip_len\u001b[0m \u001b[1;33m=\u001b[0m \u001b[0mclip\u001b[0m\u001b[1;33m.\u001b[0m\u001b[0mduration\u001b[0m\u001b[1;33m\u001b[0m\u001b[1;33m\u001b[0m\u001b[0m\n\u001b[0;32m     39\u001b[0m             \u001b[1;32mif\u001b[0m \u001b[0mclip_len\u001b[0m \u001b[1;33m>\u001b[0m \u001b[0mcut_len\u001b[0m\u001b[1;33m:\u001b[0m\u001b[1;33m\u001b[0m\u001b[1;33m\u001b[0m\u001b[0m\n",
      "\u001b[1;32m<ipython-input-15-fab11aef44ea>\u001b[0m in \u001b[0;36msplit_video3\u001b[1;34m(vid_filename, check_freq, print_split_frames, print_cmp_frames)\u001b[0m\n\u001b[0;32m      8\u001b[0m     \u001b[1;32mwith\u001b[0m \u001b[0mopen\u001b[0m\u001b[1;33m(\u001b[0m\u001b[0mvid_filename\u001b[0m\u001b[1;33m,\u001b[0m \u001b[1;34m'rb'\u001b[0m\u001b[1;33m)\u001b[0m \u001b[1;32mas\u001b[0m \u001b[0mf\u001b[0m\u001b[1;33m:\u001b[0m\u001b[1;33m\u001b[0m\u001b[1;33m\u001b[0m\u001b[0m\n\u001b[0;32m      9\u001b[0m         \u001b[0mvideo\u001b[0m \u001b[1;33m=\u001b[0m \u001b[0mVideoFileClip\u001b[0m\u001b[1;33m(\u001b[0m\u001b[0mvid_filename\u001b[0m\u001b[1;33m)\u001b[0m\u001b[1;33m\u001b[0m\u001b[1;33m\u001b[0m\u001b[0m\n\u001b[1;32m---> 10\u001b[1;33m         \u001b[0mvr\u001b[0m \u001b[1;33m=\u001b[0m \u001b[0mVideoReader\u001b[0m\u001b[1;33m(\u001b[0m\u001b[0mvid_filename\u001b[0m\u001b[1;33m,\u001b[0m \u001b[0mctx\u001b[0m\u001b[1;33m=\u001b[0m\u001b[0mgpu\u001b[0m\u001b[1;33m(\u001b[0m\u001b[1;36m0\u001b[0m\u001b[1;33m)\u001b[0m\u001b[1;33m)\u001b[0m\u001b[1;33m\u001b[0m\u001b[1;33m\u001b[0m\u001b[0m\n\u001b[0m\u001b[0;32m     11\u001b[0m \u001b[1;33m\u001b[0m\u001b[0m\n\u001b[0;32m     12\u001b[0m         \u001b[0mclip_cnt\u001b[0m \u001b[1;33m=\u001b[0m \u001b[1;36m0\u001b[0m  \u001b[1;31m# Number of clips created from video\u001b[0m\u001b[1;33m\u001b[0m\u001b[1;33m\u001b[0m\u001b[0m\n",
      "\u001b[1;32m~\\Anaconda3\\envs\\moviepy\\lib\\site-packages\\decord\\video_reader.py\u001b[0m in \u001b[0;36m__init__\u001b[1;34m(self, uri, ctx, width, height, num_threads, fault_tol)\u001b[0m\n\u001b[0;32m     52\u001b[0m                 ba, ctx.device_type, ctx.device_id, width, height, num_threads, 2, fault_tol)\n\u001b[0;32m     53\u001b[0m         \u001b[1;32melse\u001b[0m\u001b[1;33m:\u001b[0m\u001b[1;33m\u001b[0m\u001b[1;33m\u001b[0m\u001b[0m\n\u001b[1;32m---> 54\u001b[1;33m             self._handle = _CAPI_VideoReaderGetVideoReader(\n\u001b[0m\u001b[0;32m     55\u001b[0m                 uri, ctx.device_type, ctx.device_id, width, height, num_threads, 0, fault_tol)\n\u001b[0;32m     56\u001b[0m         \u001b[1;32mif\u001b[0m \u001b[0mself\u001b[0m\u001b[1;33m.\u001b[0m\u001b[0m_handle\u001b[0m \u001b[1;32mis\u001b[0m \u001b[1;32mNone\u001b[0m\u001b[1;33m:\u001b[0m\u001b[1;33m\u001b[0m\u001b[1;33m\u001b[0m\u001b[0m\n",
      "\u001b[1;32m~\\Anaconda3\\envs\\moviepy\\lib\\site-packages\\decord\\_ffi\\_ctypes\\function.py\u001b[0m in \u001b[0;36m__call__\u001b[1;34m(self, *args)\u001b[0m\n\u001b[0;32m    171\u001b[0m         \u001b[0mret_val\u001b[0m \u001b[1;33m=\u001b[0m \u001b[0mDECORDValue\u001b[0m\u001b[1;33m(\u001b[0m\u001b[1;33m)\u001b[0m\u001b[1;33m\u001b[0m\u001b[1;33m\u001b[0m\u001b[0m\n\u001b[0;32m    172\u001b[0m         \u001b[0mret_tcode\u001b[0m \u001b[1;33m=\u001b[0m \u001b[0mctypes\u001b[0m\u001b[1;33m.\u001b[0m\u001b[0mc_int\u001b[0m\u001b[1;33m(\u001b[0m\u001b[1;33m)\u001b[0m\u001b[1;33m\u001b[0m\u001b[1;33m\u001b[0m\u001b[0m\n\u001b[1;32m--> 173\u001b[1;33m         check_call(_LIB.DECORDFuncCall(\n\u001b[0m\u001b[0;32m    174\u001b[0m             \u001b[0mself\u001b[0m\u001b[1;33m.\u001b[0m\u001b[0mhandle\u001b[0m\u001b[1;33m,\u001b[0m \u001b[0mvalues\u001b[0m\u001b[1;33m,\u001b[0m \u001b[0mtcodes\u001b[0m\u001b[1;33m,\u001b[0m \u001b[0mctypes\u001b[0m\u001b[1;33m.\u001b[0m\u001b[0mc_int\u001b[0m\u001b[1;33m(\u001b[0m\u001b[0mnum_args\u001b[0m\u001b[1;33m)\u001b[0m\u001b[1;33m,\u001b[0m\u001b[1;33m\u001b[0m\u001b[1;33m\u001b[0m\u001b[0m\n\u001b[0;32m    175\u001b[0m             ctypes.byref(ret_val), ctypes.byref(ret_tcode)))\n",
      "\u001b[1;32m~\\Anaconda3\\envs\\moviepy\\lib\\site-packages\\decord\\_ffi\\base.py\u001b[0m in \u001b[0;36mcheck_call\u001b[1;34m(ret)\u001b[0m\n\u001b[0;32m     76\u001b[0m                 \u001b[0merr_str\u001b[0m \u001b[1;33m=\u001b[0m \u001b[0merr_str\u001b[0m\u001b[1;33m.\u001b[0m\u001b[0msplit\u001b[0m\u001b[1;33m(\u001b[0m\u001b[1;34m'Stack trace'\u001b[0m\u001b[1;33m)\u001b[0m\u001b[1;33m[\u001b[0m\u001b[1;36m0\u001b[0m\u001b[1;33m]\u001b[0m\u001b[1;33m.\u001b[0m\u001b[0mstrip\u001b[0m\u001b[1;33m(\u001b[0m\u001b[1;33m)\u001b[0m\u001b[1;33m\u001b[0m\u001b[1;33m\u001b[0m\u001b[0m\n\u001b[0;32m     77\u001b[0m             \u001b[1;32mraise\u001b[0m \u001b[0mDECORDLimitReachedError\u001b[0m\u001b[1;33m(\u001b[0m\u001b[0merr_str\u001b[0m\u001b[1;33m)\u001b[0m\u001b[1;33m\u001b[0m\u001b[1;33m\u001b[0m\u001b[0m\n\u001b[1;32m---> 78\u001b[1;33m         \u001b[1;32mraise\u001b[0m \u001b[0mDECORDError\u001b[0m\u001b[1;33m(\u001b[0m\u001b[0merr_str\u001b[0m\u001b[1;33m)\u001b[0m\u001b[1;33m\u001b[0m\u001b[1;33m\u001b[0m\u001b[0m\n\u001b[0m\u001b[0;32m     79\u001b[0m \u001b[1;33m\u001b[0m\u001b[0m\n\u001b[0;32m     80\u001b[0m \u001b[1;33m\u001b[0m\u001b[0m\n",
      "\u001b[1;31mDECORDError\u001b[0m: [09:33:13] D:\\a\\decord\\decord\\src\\video\\video_reader.cc:167: CUDA not enabled. Requested context GPU(0)."
     ]
    }
   ],
   "source": [
    "start_time = time.time()\n",
    "#mv_clips = build_mv_clips(clips, times)\n",
    "mv_clips = build_mv_clips(times)\n",
    "print('Time taken:', (time.time() - start_time)/60)"
   ]
  },
  {
   "cell_type": "code",
   "execution_count": 22,
   "metadata": {},
   "outputs": [],
   "source": [
    "music_video = concatenate_videoclips(mv_clips)"
   ]
  },
  {
   "cell_type": "code",
   "execution_count": 23,
   "metadata": {},
   "outputs": [],
   "source": [
    "music_audio = AudioFileClip(FINAL_AUDIO).subclip(0, music_video.duration)"
   ]
  },
  {
   "cell_type": "code",
   "execution_count": 24,
   "metadata": {},
   "outputs": [],
   "source": [
    "final_music_video = music_video.set_audio(music_audio)"
   ]
  },
  {
   "cell_type": "code",
   "execution_count": 25,
   "metadata": {},
   "outputs": [
    {
     "name": "stdout",
     "output_type": "stream",
     "text": [
      "music_video23.mp4\n"
     ]
    }
   ],
   "source": [
    "i = 1\n",
    "# Append unique id suffix to filename if file already exists\n",
    "name = EXPORT_FILENAME.split('.')[0]\n",
    "ext = EXPORT_FILENAME.split('.')[-1]\n",
    "while os.path.exists(EXPORT_FILENAME):\n",
    "    i += 1\n",
    "    EXPORT_FILENAME = name + str(i) + '.' + ext"
   ]
  },
  {
   "cell_type": "code",
   "execution_count": 26,
   "metadata": {},
   "outputs": [
    {
     "name": "stderr",
     "output_type": "stream",
     "text": [
      "\r",
      "chunk:   0%|                                                                        | 0/5915 [00:00<?, ?it/s, now=None]"
     ]
    },
    {
     "name": "stdout",
     "output_type": "stream",
     "text": [
      "Moviepy - Building video music_video23.mp4.\n",
      "MoviePy - Writing audio in music_video23TEMP_MPY_wvf_snd.mp3\n"
     ]
    },
    {
     "name": "stderr",
     "output_type": "stream",
     "text": [
      "t:   0%|                                                                    | 3/6432 [00:00<05:49, 18.42it/s, now=None]"
     ]
    },
    {
     "name": "stdout",
     "output_type": "stream",
     "text": [
      "MoviePy - Done.\n",
      "Moviepy - Writing video music_video23.mp4\n",
      "\n"
     ]
    },
    {
     "name": "stderr",
     "output_type": "stream",
     "text": [
      "                                                                                                                       \r"
     ]
    },
    {
     "name": "stdout",
     "output_type": "stream",
     "text": [
      "Moviepy - Done !\n",
      "Moviepy - video ready music_video23.mp4\n"
     ]
    }
   ],
   "source": [
    "final_music_video.write_videofile(export_name)"
   ]
  },
  {
   "cell_type": "code",
   "execution_count": null,
   "metadata": {},
   "outputs": [],
   "source": []
  }
 ],
 "metadata": {
  "kernelspec": {
   "display_name": "Python 3",
   "language": "python",
   "name": "python3"
  },
  "language_info": {
   "codemirror_mode": {
    "name": "ipython",
    "version": 3
   },
   "file_extension": ".py",
   "mimetype": "text/x-python",
   "name": "python",
   "nbconvert_exporter": "python",
   "pygments_lexer": "ipython3",
   "version": "3.8.5"
  }
 },
 "nbformat": 4,
 "nbformat_minor": 4
}
